{
 "cells": [
  {
   "cell_type": "markdown",
   "metadata": {},
   "source": [
    "## Question 1"
   ]
  },
  {
   "cell_type": "code",
   "execution_count": 1,
   "metadata": {},
   "outputs": [],
   "source": [
    "from sklearn.datasets import fetch_20newsgroups\n",
    "import matplotlib.pyplot as plt\n",
    "\n",
    "# Extract datasets\n",
    "categories = ['comp.graphics', 'comp.os.ms-windows.misc', 'comp.sys.ibm.pc.hardware', 'comp.sys.mac.hardware',\n",
    "              'rec.autos', 'rec.motorcycles','rec.sport.baseball', 'rec.sport.hockey']\n",
    "dataset = fetch_20newsgroups(subset = 'all', categories = categories, shuffle = True, random_state = 42)"
   ]
  },
  {
   "cell_type": "code",
   "execution_count": 2,
   "metadata": {},
   "outputs": [
    {
     "name": "stdout",
     "output_type": "stream",
     "text": [
      "The dimension of the TF-IDF matrix is (7882, 27768) .\n"
     ]
    }
   ],
   "source": [
    "from sklearn.feature_extraction.text import CountVectorizer, TfidfTransformer\n",
    "\n",
    "vectorizer_count = CountVectorizer(min_df = 3, stop_words = 'english')\n",
    "counts = vectorizer_count.fit_transform(dataset.data)\n",
    "\n",
    "tfidf_transformer = TfidfTransformer()\n",
    "tfidf = tfidf_transformer.fit_transform(counts)\n",
    "print(\"The dimension of the TF-IDF matrix is\", tfidf.shape, \".\")"
   ]
  },
  {
   "cell_type": "markdown",
   "metadata": {},
   "source": [
    "## Question 2"
   ]
  },
  {
   "cell_type": "code",
   "execution_count": 3,
   "metadata": {},
   "outputs": [],
   "source": [
    "from sklearn.cluster import KMeans\n",
    "from sklearn import metrics\n",
    "import numpy as np\n",
    "np.random.seed(42)\n",
    "import random\n",
    "random.seed(42)\n",
    "\n",
    "k_m = KMeans(n_clusters = 2, random_state = 0, max_iter = 1000, n_init = 30, init = 'k-means++')\n",
    "k_m.fit(tfidf)\n",
    "\n",
    "# Find the most common terms per cluster\n",
    "order = k_m.cluster_centers_.argsort()[:, ::-1]\n",
    "terms = vectorizer_count.get_feature_names()\n",
    "_, idx = np.unique(dataset.target, return_index=True)\n",
    "labels = np.zeros_like(dataset.target)\n",
    "for y in [0,1,2,3]:\n",
    "    labels[np.argwhere(dataset.target == y)] = 1\n",
    "for y in [4,5,6,7]:\n",
    "    labels[np.argwhere(dataset.target == y)] = 0\n",
    "classname = ['Class 1', 'Class 2']\n",
    "\n",
    "cont_mat = metrics.cluster.contingency_matrix(labels, k_m.labels_)"
   ]
  },
  {
   "cell_type": "code",
   "execution_count": 4,
   "metadata": {},
   "outputs": [
    {
     "name": "stdout",
     "output_type": "stream",
     "text": [
      "[[1727 2252]\n",
      " [   4 3899]]\n"
     ]
    },
    {
     "data": {
      "image/png": "[encoded data removed]",
      "text/plain": [
       "<Figure size 432x288 with 2 Axes>"
      ]
     },
     "metadata": {
      "needs_background": "light"
     },
     "output_type": "display_data"
    }
   ],
   "source": [
    "import itertools\n",
    "def plot_cont_mat(cont_mat, name_class, normalize = False, title = 'Contingency Table', cmap = plt.cm.Blues):\n",
    "    if normalize:\n",
    "        cont_mat = cont_mat.astype('float') / cont_mat.sum()\n",
    "    else:\n",
    "        \n",
    "        print(cont_mat)\n",
    "    \n",
    "    plt.imshow(cont_mat, interpolation='nearest', cmap = cmap)\n",
    "    plt.title(title)\n",
    "    plt.colorbar()\n",
    "    tick_marks = np.arange(len(name_class))\n",
    "    plt.xticks(tick_marks, name_class, rotation = 90)\n",
    "    plt.yticks(tick_marks, name_class)\n",
    "\n",
    "    fmt = '.2f' if normalize else 'd'\n",
    "    thresh = cont_mat.max() / 2.\n",
    "    for i, j in itertools.product(range(cont_mat.shape[0]), range(cont_mat.shape[1])):\n",
    "        plt.text(j, i, format(cont_mat[i, j], fmt),\n",
    "                 horizontalalignment=\"center\",\n",
    "                 color = \"white\" if cont_mat[i, j] > thresh else \"black\")\n",
    "\n",
    "    plt.ylabel('True label')\n",
    "    plt.xlabel('Predicted label')\n",
    "    #plt.tight_layout()\n",
    "        \n",
    "plt.figure()\n",
    "plot_cont_mat(cont_mat, name_class = classname, normalize = False,\n",
    "                      title='Contingency Matrix without Normalization')\n",
    "\n",
    "plt.show()"
   ]
  },
  {
   "cell_type": "code",
   "execution_count": null,
   "metadata": {},
   "outputs": [],
   "source": []
  }
 ],
 "metadata": {
  "kernelspec": {
   "display_name": "Python 3",
   "language": "python",
   "name": "python3"
  },
  "language_info": {
   "codemirror_mode": {
    "name": "ipython",
    "version": 3
   },
   "file_extension": ".py",
   "mimetype": "text/x-python",
   "name": "python",
   "nbconvert_exporter": "python",
   "pygments_lexer": "ipython3",
   "version": "3.7.6"
  }
 },
 "nbformat": 4,
 "nbformat_minor": 2
}
