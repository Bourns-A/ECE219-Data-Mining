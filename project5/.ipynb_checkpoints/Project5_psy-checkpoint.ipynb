{
 "cells": [
  {
   "cell_type": "code",
   "execution_count": 0,
   "metadata": {
    "colab": {
     "base_uri": "https://localhost:8080/",
     "height": 274
    },
    "colab_type": "code",
    "id": "EM7svP3weABS",
    "outputId": "0b4646b8-bbb7-4021-9bc7-3f4d4bf23822"
   },
   "outputs": [
    {
     "name": "stdout",
     "output_type": "stream",
     "text": [
      "Requirement already satisfied: PyDrive in /usr/local/lib/python3.6/dist-packages (1.3.1)\n",
      "Requirement already satisfied: PyYAML>=3.0 in /usr/local/lib/python3.6/dist-packages (from PyDrive) (3.13)\n",
      "Requirement already satisfied: oauth2client>=4.0.0 in /usr/local/lib/python3.6/dist-packages (from PyDrive) (4.1.3)\n",
      "Requirement already satisfied: google-api-python-client>=1.2 in /usr/local/lib/python3.6/dist-packages (from PyDrive) (1.7.11)\n",
      "Requirement already satisfied: rsa>=3.1.4 in /usr/local/lib/python3.6/dist-packages (from oauth2client>=4.0.0->PyDrive) (4.0)\n",
      "Requirement already satisfied: six>=1.6.1 in /usr/local/lib/python3.6/dist-packages (from oauth2client>=4.0.0->PyDrive) (1.12.0)\n",
      "Requirement already satisfied: pyasn1-modules>=0.0.5 in /usr/local/lib/python3.6/dist-packages (from oauth2client>=4.0.0->PyDrive) (0.2.8)\n",
      "Requirement already satisfied: pyasn1>=0.1.7 in /usr/local/lib/python3.6/dist-packages (from oauth2client>=4.0.0->PyDrive) (0.4.8)\n",
      "Requirement already satisfied: httplib2>=0.9.1 in /usr/local/lib/python3.6/dist-packages (from oauth2client>=4.0.0->PyDrive) (0.11.3)\n",
      "Requirement already satisfied: uritemplate<4dev,>=3.0.0 in /usr/local/lib/python3.6/dist-packages (from google-api-python-client>=1.2->PyDrive) (3.0.1)\n",
      "Requirement already satisfied: google-auth>=1.4.1 in /usr/local/lib/python3.6/dist-packages (from google-api-python-client>=1.2->PyDrive) (1.7.2)\n",
      "Requirement already satisfied: google-auth-httplib2>=0.0.3 in /usr/local/lib/python3.6/dist-packages (from google-api-python-client>=1.2->PyDrive) (0.0.3)\n",
      "Requirement already satisfied: cachetools<3.2,>=2.0.0 in /usr/local/lib/python3.6/dist-packages (from google-auth>=1.4.1->google-api-python-client>=1.2->PyDrive) (3.1.1)\n",
      "Requirement already satisfied: setuptools>=40.3.0 in /usr/local/lib/python3.6/dist-packages (from google-auth>=1.4.1->google-api-python-client>=1.2->PyDrive) (45.2.0)\n"
     ]
    }
   ],
   "source": [
    "!pip install PyDrive\n",
    "import os\n",
    "import json\n",
    "import datetime\n",
    "import pytz\n",
    "import numpy as np\n",
    "import pandas as pd\n",
    "import matplotlib.pyplot as plt\n",
    "from pydrive.auth import GoogleAuth\n",
    "from pydrive.drive import GoogleDrive\n",
    "from google.colab import auth\n",
    "from oauth2client.client import GoogleCredentials"
   ]
  },
  {
   "cell_type": "code",
   "execution_count": 0,
   "metadata": {
    "colab": {},
    "colab_type": "code",
    "id": "lot3Dfx_7Upn"
   },
   "outputs": [],
   "source": [
    "auth.authenticate_user()\n",
    "gauth = GoogleAuth()\n",
    "gauth.credentials = GoogleCredentials.get_application_default()\n",
    "drive = GoogleDrive(gauth)"
   ]
  },
  {
   "cell_type": "code",
   "execution_count": 0,
   "metadata": {
    "colab": {},
    "colab_type": "code",
    "id": "cisXB2to706n"
   },
   "outputs": [],
   "source": [
    "download = drive.CreateFile({'id': '1cZ4NMEAMD0Kd64wnv9epbnofDipFrNRd'})\n",
    "download.GetContentFile('ECE219_tweet_data.zip')"
   ]
  },
  {
   "cell_type": "code",
   "execution_count": 0,
   "metadata": {
    "colab": {
     "base_uri": "https://localhost:8080/",
     "height": 55
    },
    "colab_type": "code",
    "id": "b2lfDiZM8quU",
    "outputId": "f718b25a-1e06-4a30-adef-2d456f27c4a6"
   },
   "outputs": [
    {
     "data": {
      "text/plain": [
       "GoogleDriveFile({'id': '1cZ4NMEAMD0Kd64wnv9epbnofDipFrNRd', 'kind': 'drive#file', 'etag': '\"f2P4MDc1XjqPgJingShxcnjxANQ/MTU4NDQ3Mjg2MDExOA\"', 'selfLink': 'https://www.googleapis.com/drive/v2/files/1cZ4NMEAMD0Kd64wnv9epbnofDipFrNRd', 'webContentLink': 'https://drive.google.com/uc?id=1cZ4NMEAMD0Kd64wnv9epbnofDipFrNRd&export=download', 'alternateLink': 'https://drive.google.com/file/d/1cZ4NMEAMD0Kd64wnv9epbnofDipFrNRd/view?usp=drivesdk', 'embedLink': 'https://drive.google.com/file/d/1cZ4NMEAMD0Kd64wnv9epbnofDipFrNRd/preview?usp=drivesdk', 'iconLink': 'https://drive-thirdparty.googleusercontent.com/16/type/application/zip', 'title': 'ECE219_tweet_data.zip', 'mimeType': 'application/zip', 'labels': {'starred': False, 'hidden': False, 'trashed': False, 'restricted': False, 'viewed': True}, 'copyRequiresWriterPermission': False, 'createdDate': '2020-03-17T18:57:20.047Z', 'modifiedDate': '2020-03-17T19:21:00.118Z', 'modifiedByMeDate': '2020-03-17T19:21:00.118Z', 'lastViewedByMeDate': '2020-03-17T19:19:28.629Z', 'markedViewedByMeDate': '1970-01-01T00:00:00.000Z', 'version': '4', 'parents': [{'kind': 'drive#parentReference', 'id': '1TG5-HV6DXdW8zVVdlA1HndWS1fCgwYB7', 'selfLink': 'https://www.googleapis.com/drive/v2/files/1cZ4NMEAMD0Kd64wnv9epbnofDipFrNRd/parents/1TG5-HV6DXdW8zVVdlA1HndWS1fCgwYB7', 'parentLink': 'https://www.googleapis.com/drive/v2/files/1TG5-HV6DXdW8zVVdlA1HndWS1fCgwYB7', 'isRoot': False}], 'downloadUrl': 'https://www.googleapis.com/drive/v2/files/1cZ4NMEAMD0Kd64wnv9epbnofDipFrNRd?alt=media&source=downloadUrl', 'userPermission': {'kind': 'drive#permission', 'etag': '\"f2P4MDc1XjqPgJingShxcnjxANQ/ipCZPZyJyaqbO_83mcJFe6GrSMk\"', 'id': 'me', 'selfLink': 'https://www.googleapis.com/drive/v2/files/1cZ4NMEAMD0Kd64wnv9epbnofDipFrNRd/permissions/me', 'role': 'owner', 'type': 'user'}, 'originalFilename': 'ECE219_tweet_data.zip', 'fileExtension': 'zip', 'md5Checksum': 'c2aeaa86c3097ed2e41466fa74b7614a', 'fileSize': '1332836238', 'quotaBytesUsed': '1332836238', 'ownerNames': ['彭思源'], 'owners': [{'kind': 'drive#user', 'displayName': '彭思源', 'isAuthenticatedUser': True, 'permissionId': '07784723099040365650', 'emailAddress': 'pengsiyuan666@gmail.com'}], 'lastModifyingUserName': '彭思源', 'lastModifyingUser': {'kind': 'drive#user', 'displayName': '彭思源', 'isAuthenticatedUser': True, 'permissionId': '07784723099040365650', 'emailAddress': 'pengsiyuan666@gmail.com'}, 'capabilities': {'canCopy': True, 'canEdit': True}, 'editable': True, 'copyable': True, 'writersCanShare': True, 'shared': True, 'explicitlyTrashed': False, 'appDataContents': False, 'headRevisionId': '0By3plfBHy9KXbkhtN3ZiZVp4V05TN0lLUDl4b2w1TmZJMWg4PQ', 'spaces': ['drive']})"
      ]
     },
     "execution_count": 14,
     "metadata": {
      "tags": []
     },
     "output_type": "execute_result"
    }
   ],
   "source": [
    "download"
   ]
  },
  {
   "cell_type": "code",
   "execution_count": 0,
   "metadata": {
    "colab": {
     "base_uri": "https://localhost:8080/",
     "height": 146
    },
    "colab_type": "code",
    "id": "bflUuzL0-Q8H",
    "outputId": "bfa4c3c8-4167-4e90-f7ec-e93d75b0a826"
   },
   "outputs": [
    {
     "name": "stdout",
     "output_type": "stream",
     "text": [
      "Archive:  ECE219_tweet_data.zip\n",
      "replace tweets_#nfl.txt? [y]es, [n]o, [A]ll, [N]one, [r]ename: n\n",
      "replace tweets_#superbowl.txt? [y]es, [n]o, [A]ll, [N]one, [r]ename: n\n",
      "replace tweets_#sb49.txt? [y]es, [n]o, [A]ll, [N]one, [r]ename: n\n",
      "replace tweets_#patriots.txt? [y]es, [n]o, [A]ll, [N]one, [r]ename: n\n",
      "replace tweets_#gohawks.txt? [y]es, [n]o, [A]ll, [N]one, [r]ename: n\n",
      "replace tweets_#gopatriots.txt? [y]es, [n]o, [A]ll, [N]one, [r]ename: n\n"
     ]
    }
   ],
   "source": [
    "!unzip ECE219_tweet_data.zip"
   ]
  },
  {
   "cell_type": "markdown",
   "metadata": {
    "colab_type": "text",
    "id": "5bcww8-5AW8G"
   },
   "source": [
    "## Q1"
   ]
  },
  {
   "cell_type": "code",
   "execution_count": 0,
   "metadata": {
    "colab": {
     "base_uri": "https://localhost:8080/",
     "height": 127
    },
    "colab_type": "code",
    "id": "b5ktua350WSx",
    "outputId": "7135c8dc-e0b2-48fc-b864-2d762b0fbee7"
   },
   "outputs": [
    {
     "name": "stdout",
     "output_type": "stream",
     "text": [
      "files[0] => tweets_#gohawks.txt\n",
      "files[1] => tweets_#gopatriots.txt\n",
      "files[2] => tweets_#nfl.txt\n",
      "files[3] => tweets_#patriots.txt\n",
      "files[4] => tweets_#sb49.txt\n",
      "files[5] => tweets_#superbowl.txt\n"
     ]
    }
   ],
   "source": [
    "path = \"./\"\n",
    "\n",
    "files = [\"tweets_#gohawks.txt\", \"tweets_#gopatriots.txt\", \"tweets_#nfl.txt\", \"tweets_#patriots.txt\", \"tweets_#sb49.txt\", \"tweets_#superbowl.txt\"]\n",
    "topics = [\"gohawks\", \"gopatriots\", \"nfl\", \"patriots\", \"sb49\", \"superbowl\"]\n",
    "\n",
    "for i, fl in enumerate(files):\n",
    "    print(\"files[\" + str(i) + \"] => \" + fl)"
   ]
  },
  {
   "cell_type": "code",
   "execution_count": 0,
   "metadata": {
    "colab": {},
    "colab_type": "code",
    "id": "bDi33FUlu4ag"
   },
   "outputs": [],
   "source": [
    "def load_file(file):\n",
    "    \"\"\"\n",
    "    Load the time(in human readable form), follows, and retweets\n",
    "    \"\"\"\n",
    "    result = []\n",
    "    pst_tz = pytz.timezone('America/Los_Angeles')\n",
    "    for line in open(path + file, 'r') :\n",
    "        a = json.loads(line)\n",
    "        cita = a['citation_date']\n",
    "        citetime = datetime.datetime.fromtimestamp(cita,pst_tz)\n",
    "        foll = a['author']['followers']\n",
    "        retweet = a['metrics']['citations']['total']\n",
    "        result.append({'time': citetime, 'followers': foll, 'retweets': retweet})\n",
    "    return result"
   ]
  },
  {
   "cell_type": "code",
   "execution_count": 0,
   "metadata": {
    "colab": {},
    "colab_type": "code",
    "id": "qCQ3RdK4AIlM"
   },
   "outputs": [],
   "source": [
    "def get_statistic(data_list):\n",
    "    \"\"\"\n",
    "    Count average number of tweets per hour, the number of followers per tweet, \n",
    "    number of retweets per tweet, and hour-tweets history.\n",
    "    The starting time is set to be Jan.14th 0:00\n",
    "    \"\"\"\n",
    "    retweet = 0\n",
    "    followers = 0\n",
    "    tweets = len(data_list)\n",
    "    hourlist = []\n",
    "    for p in data_list:\n",
    "        retweet += int(p['retweets'])\n",
    "        followers += int(p['followers'])\n",
    "        hourlist.append(((p[\"time\"].month-1)*31+p[\"time\"].day-14)*24+p[\"time\"].hour)\n",
    "    return [float(tweets) / max(hourlist), float(followers) / tweets , float(retweet) / tweets], hourlist"
   ]
  },
  {
   "cell_type": "code",
   "execution_count": 0,
   "metadata": {
    "colab": {},
    "colab_type": "code",
    "id": "4dx0QL4sAMqK"
   },
   "outputs": [],
   "source": [
    "def plot_hist(time_list, title = \"\"):\n",
    "    n, bins, patches = plt.hist(time_list, 50, alpha=0.5)\n",
    "    plt.hist(time_list, bins, alpha=0.5, color=\"blue\")\n",
    "    plt.xlabel(\"hour(h)\")\n",
    "    plt.ylabel(\"number of tweets in hour\")\n",
    "    plt.title(title)\n",
    "    plt.show()"
   ]
  },
  {
   "cell_type": "code",
   "execution_count": 0,
   "metadata": {
    "colab": {
     "base_uri": "https://localhost:8080/",
     "height": 147
    },
    "colab_type": "code",
    "id": "gQbmFmC2AOkw",
    "outputId": "93841fc4-0f04-4246-d53c-1fece3d2f2f5"
   },
   "outputs": [
    {
     "name": "stdout",
     "output_type": "stream",
     "text": [
      "Average number of tweets per hour, Average number of followers of users posting the tweets per tweet, and Average number of retweets per tweet for hashtag gohawks:  [292.598615916955, 2217.9237355281984, 2.0132093991319877]\n",
      "Average number of tweets per hour, Average number of followers of users posting the tweets per tweet, and Average number of retweets per tweet for hashtag gopatriots:  [40.888695652173915, 1427.2526051635405, 1.4081919101697078]\n",
      "Average number of tweets per hour, Average number of followers of users posting the tweets per tweet, and Average number of retweets per tweet for hashtag nfl:  [397.64846416382255, 4662.37544523693, 1.5344602655543254]\n",
      "Average number of tweets per hour, Average number of followers of users posting the tweets per tweet, and Average number of retweets per tweet for hashtag patriots:  [751.9129692832764, 3280.4635616550277, 1.7852871288476946]\n",
      "Average number of tweets per hour, Average number of followers of users posting the tweets per tweet, and Average number of retweets per tweet for hashtag sb49:  [1269.0255972696245, 10374.160292019487, 2.52713444111402]\n",
      "Average number of tweets per hour, Average number of followers of users posting the tweets per tweet, and Average number of retweets per tweet for hashtag superbowl:  [2071.353242320819, 8814.96799424623, 2.3911895819207736]\n"
     ]
    }
   ],
   "source": [
    "for i,file_i in enumerate(files):\n",
    "    topic = load_file(file_i)\n",
    "    stat, hourlist = get_statistic(topic)\n",
    "    print(\"Average number of tweets per hour, Average number of followers of users posting the tweets per tweet, and Average number of retweets per tweet for hashtag \"+topics[i]+\": \", stat)"
   ]
  },
  {
   "cell_type": "markdown",
   "metadata": {
    "colab_type": "text",
    "id": "jLjRAbqHgnbR"
   },
   "source": [
    "## Q2"
   ]
  },
  {
   "cell_type": "code",
   "execution_count": 0,
   "metadata": {
    "colab": {
     "base_uri": "https://localhost:8080/",
     "height": 295
    },
    "colab_type": "code",
    "id": "bXOEHGFoZdTm",
    "outputId": "f1a47717-4d49-45bb-9802-b525d4bf379c"
   },
   "outputs": [
    {
     "data": {
      "image/png": "[encoded data removed]",
      "text/plain": [
       "<Figure size 432x288 with 1 Axes>"
      ]
     },
     "metadata": {
      "tags": []
     },
     "output_type": "display_data"
    }
   ],
   "source": [
    "topic = load_file(\"tweets_#superbowl.txt\")\n",
    "stat, hourlist = get_statistic(topic)\n",
    "plot_hist(hourlist,\"superbowl\")"
   ]
  },
  {
   "cell_type": "code",
   "execution_count": 0,
   "metadata": {
    "colab": {
     "base_uri": "https://localhost:8080/",
     "height": 295
    },
    "colab_type": "code",
    "id": "1xG7uQL1cg7X",
    "outputId": "ed5478aa-59de-4a33-c584-d1aba7fb6573"
   },
   "outputs": [
    {
     "data": {
      "image/png": "[encoded data removed]",
      "text/plain": [
       "<Figure size 432x288 with 1 Axes>"
      ]
     },
     "metadata": {
      "tags": []
     },
     "output_type": "display_data"
    }
   ],
   "source": [
    "topic = load_file(\"tweets_#nfl.txt\")\n",
    "stat, hourlist = get_statistic(topic)\n",
    "plot_hist(hourlist,\"nfl\")"
   ]
  },
  {
   "cell_type": "markdown",
   "metadata": {
    "colab_type": "text",
    "id": "iXDQcpI1jFlO"
   },
   "source": [
    "## Q3"
   ]
  },
  {
   "cell_type": "code",
   "execution_count": 0,
   "metadata": {
    "colab": {},
    "colab_type": "code",
    "id": "dgYxSFeeeIDn"
   },
   "outputs": [],
   "source": [
    "from sklearn.linear_model import LinearRegression\n",
    "from sklearn.model_selection import KFold\n",
    "from sklearn.metrics import mean_squared_error, r2_score\n",
    "from statistics import mean\n",
    "import statsmodels.api as sm"
   ]
  },
  {
   "cell_type": "code",
   "execution_count": 0,
   "metadata": {
    "colab": {},
    "colab_type": "code",
    "id": "MJQIcFOZnXUV"
   },
   "outputs": [],
   "source": [
    "def prase_dataset(file):\n",
    "    \"\"\"\n",
    "    Prase x conponent of the dataset into pandas DataFrame including columns of:\n",
    "    tweets, retweets, total_followers, max_followers, hour of the day\n",
    "    with lines of hours,\n",
    "    Prase y of dataset as number of tweets in the next hour.\n",
    "    \"\"\"\n",
    "   \n",
    "    # extract raw features\n",
    "    pst_tz = pytz.timezone('America/Los_Angeles')\n",
    "    data_raw = []\n",
    "    for line in open(path + file, 'r') :\n",
    "        row_tmp = []\n",
    "        a = json.loads(line)\n",
    "        time = a['citation_date']\n",
    "        retweet = a['metrics']['citations']['total']\n",
    "        foll = a['author']['followers']        \n",
    "        row_tmp.append(time)\n",
    "        row_tmp.append(retweet)\n",
    "        row_tmp.append(foll)        \n",
    "        data_raw.append(row_tmp)\n",
    "    \n",
    "    # sort according to time\n",
    "    pddata_raw = pd.DataFrame(data_raw,columns=['time','retweets','followers'])\n",
    "    pddata_raw = pddata_raw.sort_values(by = 'time')\n",
    "    pddata_raw = pddata_raw.reset_index(drop=True)\n",
    "    pddata_raw['tweets'] = 1    \n",
    "#     print(pddata_raw)\n",
    "\n",
    "    # reset time to hour index\n",
    "    hour_accu = []\n",
    "    hour_day = []\n",
    "    for index, row in pddata_raw.iterrows():  \n",
    "        p = datetime.datetime.fromtimestamp(row[\"time\"], pst_tz)  \n",
    "        hour_accu.append(((p.month-1)*31+p.day-14)*24+p.hour)\n",
    "        hour_day.append(p.hour)    \n",
    "    pddata_raw[\"time\"] = hour_accu\n",
    "    pddata_raw[\"hour of day\"] = hour_day\n",
    "    \n",
    "    # create a new dataframe with desired form\n",
    "    df = pd.DataFrame([],columns=['hour index','tweets','retweets','followers sum','followers max','hour of day'])\n",
    "    df['hour index'] = range(pddata_raw.iloc[len(pddata_raw.index)-1,0]+1)\n",
    "    df['tweets'] = pddata_raw.groupby(\"time\")['tweets'].sum()\n",
    "    df['retweets'] = pddata_raw.groupby(\"time\")['retweets'].sum()\n",
    "    df['followers sum'] = pddata_raw.groupby(\"time\")['followers'].sum()\n",
    "    df['followers max'] = pddata_raw.groupby(\"time\")[\"followers\"].max()\n",
    "    df['hour of day'] = pddata_raw.groupby(\"time\")['hour of day'].mean()\n",
    "    df = df.drop([0]).fillna(0).reset_index(drop=True)\n",
    "\n",
    "    # assign number of tweets of the next hour to be the target value\n",
    "    df_y = df.iloc[1:,1].reset_index(drop=True)\n",
    "    df = df[:len(df_y)]\n",
    "    \n",
    "    return df.iloc[:,1:],df_y"
   ]
  },
  {
   "cell_type": "code",
   "execution_count": 0,
   "metadata": {
    "colab": {},
    "colab_type": "code",
    "id": "_POF1R-5oTYt"
   },
   "outputs": [],
   "source": [
    "def train_lr(i):\n",
    "    \"\"\"\n",
    "    This function gets data and train using a linear regression model\n",
    "    \"\"\"    \n",
    "    df, df_y = prase_dataset(files[i])\n",
    "\n",
    "    reg = LinearRegression().fit(df, df_y)\n",
    "    pred_y = reg.predict(df)\n",
    "    MSE = mean_squared_error(df_y, pred_y)\n",
    "    R2 = r2_score(df_y, pred_y)\n",
    "    \n",
    "    print(topics[i])\n",
    "    print('MSE for test data = ',MSE)\n",
    "    print('R2 score for test data = ',R2)   \n",
    "    \n",
    "    return df, df_y, pred_y"
   ]
  },
  {
   "cell_type": "code",
   "execution_count": 0,
   "metadata": {
    "colab": {},
    "colab_type": "code",
    "id": "7VJE2TOboWWZ"
   },
   "outputs": [],
   "source": [
    "def plot_recipe(df_y, pred_y):\n",
    "    \"\"\"\n",
    "    This function plots fitted values vs true values\n",
    "    \"\"\"\n",
    "    plt.figure()\n",
    "    area = np.pi * (4)**2/4\n",
    "    plt.scatter(df_y, pred_y, s = area)\n",
    "    plt.plot([df_y.min(), df_y.max()], [df_y.min(), df_y.max()], 'k--', lw = 1)\n",
    "    plt.xlabel('true values')\n",
    "    plt.ylabel('fitted values')\n",
    "    plt.show()"
   ]
  },
  {
   "cell_type": "code",
   "execution_count": 0,
   "metadata": {
    "colab": {},
    "colab_type": "code",
    "id": "l257T-qApUaA"
   },
   "outputs": [],
   "source": [
    "def ols_regression(df, df_y):\n",
    "    X2 = sm.add_constant(df)\n",
    "    y = df_y.as_matrix()\n",
    "    lm = sm.OLS(y, X2).fit()\n",
    "    print(lm.summary())\n",
    "    print(list(df))"
   ]
  },
  {
   "cell_type": "markdown",
   "metadata": {
    "colab_type": "text",
    "id": "P4Ov4PMqpvCa"
   },
   "source": [
    "### gohawks"
   ]
  },
  {
   "cell_type": "code",
   "execution_count": 0,
   "metadata": {
    "colab": {
     "base_uri": "https://localhost:8080/",
     "height": 995
    },
    "colab_type": "code",
    "id": "PEDFoTXqpYHA",
    "outputId": "efe3145b-d55a-4fe6-a9e3-757edc4ab86f"
   },
   "outputs": [
    {
     "name": "stdout",
     "output_type": "stream",
     "text": [
      "gohawks\n",
      "MSE for test data =  759843.8445222704\n",
      "R2 score for test data =  0.4764399847953502\n"
     ]
    },
    {
     "data": {
      "image/png": "[encoded data removed]",
      "text/plain": [
       "<Figure size 432x288 with 1 Axes>"
      ]
     },
     "metadata": {
      "tags": []
     },
     "output_type": "display_data"
    },
    {
     "name": "stdout",
     "output_type": "stream",
     "text": [
      "                            OLS Regression Results                            \n",
      "==============================================================================\n",
      "Dep. Variable:                      y   R-squared:                       0.476\n",
      "Model:                            OLS   Adj. R-squared:                  0.472\n",
      "Method:                 Least Squares   F-statistic:                     103.9\n",
      "Date:                Tue, 17 Mar 2020   Prob (F-statistic):           7.03e-78\n",
      "Time:                        22:40:58   Log-Likelihood:                -4725.3\n",
      "No. Observations:                 577   AIC:                             9463.\n",
      "Df Residuals:                     571   BIC:                             9489.\n",
      "Df Model:                           5                                         \n",
      "Covariance Type:            nonrobust                                         \n",
      "=================================================================================\n",
      "                    coef    std err          t      P>|t|      [0.025      0.975]\n",
      "---------------------------------------------------------------------------------\n",
      "const            94.2103     70.292      1.340      0.181     -43.852     232.273\n",
      "tweets            1.2824      0.164      7.822      0.000       0.960       1.604\n",
      "retweets         -0.1365      0.044     -3.135      0.002      -0.222      -0.051\n",
      "followers sum    -0.0002   8.01e-05     -2.425      0.016      -0.000   -3.69e-05\n",
      "followers max  6.102e-05      0.000      0.409      0.683      -0.000       0.000\n",
      "hour of day       1.7189      5.316      0.323      0.747      -8.722      12.159\n",
      "==============================================================================\n",
      "Omnibus:                      914.731   Durbin-Watson:                   2.216\n",
      "Prob(Omnibus):                  0.000   Jarque-Bera (JB):           778994.704\n",
      "Skew:                           8.683   Prob(JB):                         0.00\n",
      "Kurtosis:                     182.165   Cond. No.                     5.11e+06\n",
      "==============================================================================\n",
      "\n",
      "Warnings:\n",
      "[1] Standard Errors assume that the covariance matrix of the errors is correctly specified.\n",
      "[2] The condition number is large, 5.11e+06. This might indicate that there are\n",
      "strong multicollinearity or other numerical problems.\n",
      "['tweets', 'retweets', 'followers sum', 'followers max', 'hour of day']\n"
     ]
    },
    {
     "name": "stderr",
     "output_type": "stream",
     "text": [
      "/usr/local/lib/python3.6/dist-packages/numpy/core/fromnumeric.py:2542: FutureWarning: Method .ptp is deprecated and will be removed in a future version. Use numpy.ptp instead.\n",
      "  return ptp(axis=axis, out=out, **kwargs)\n",
      "/usr/local/lib/python3.6/dist-packages/ipykernel_launcher.py:3: FutureWarning: Method .as_matrix will be removed in a future version. Use .values instead.\n",
      "  This is separate from the ipykernel package so we can avoid doing imports until\n"
     ]
    }
   ],
   "source": [
    "df, df_y, pred_y = train_lr(0)\n",
    "plot_recipe(df_y,pred_y)\n",
    "ols_regression(df, df_y)"
   ]
  },
  {
   "cell_type": "markdown",
   "metadata": {
    "colab_type": "text",
    "id": "2O3E6j95qmZj"
   },
   "source": [
    "### gopatriots"
   ]
  },
  {
   "cell_type": "code",
   "execution_count": 0,
   "metadata": {
    "colab": {
     "base_uri": "https://localhost:8080/",
     "height": 995
    },
    "colab_type": "code",
    "id": "qMUYP6Sgp9iR",
    "outputId": "a065f0aa-ed26-4ee0-c2b0-0e5002676a57"
   },
   "outputs": [
    {
     "name": "stdout",
     "output_type": "stream",
     "text": [
      "gopatriots\n",
      "MSE for test data =  27588.58568971645\n",
      "R2 score for test data =  0.6293383566038233\n"
     ]
    },
    {
     "data": {
      "image/png": "[encoded data removed]",
      "text/plain": [
       "<Figure size 432x288 with 1 Axes>"
      ]
     },
     "metadata": {
      "tags": []
     },
     "output_type": "display_data"
    },
    {
     "name": "stdout",
     "output_type": "stream",
     "text": [
      "                            OLS Regression Results                            \n",
      "==============================================================================\n",
      "Dep. Variable:                      y   R-squared:                       0.629\n",
      "Model:                            OLS   Adj. R-squared:                  0.626\n",
      "Method:                 Least Squares   F-statistic:                     192.9\n",
      "Date:                Tue, 17 Mar 2020   Prob (F-statistic):          7.06e-120\n",
      "Time:                        22:45:16   Log-Likelihood:                -3749.1\n",
      "No. Observations:                 574   AIC:                             7510.\n",
      "Df Residuals:                     568   BIC:                             7536.\n",
      "Df Model:                           5                                         \n",
      "Covariance Type:            nonrobust                                         \n",
      "=================================================================================\n",
      "                    coef    std err          t      P>|t|      [0.025      0.975]\n",
      "---------------------------------------------------------------------------------\n",
      "const             6.0229     10.869      0.554      0.580     -15.325      27.371\n",
      "tweets            0.3073      0.285      1.079      0.281      -0.252       0.866\n",
      "retweets          0.4892      0.192      2.550      0.011       0.112       0.866\n",
      "followers sum    -0.0001      0.000     -0.504      0.614      -0.001       0.000\n",
      "followers max  -2.36e-05      0.000     -0.108      0.914      -0.000       0.000\n",
      "hour of day       0.1144      0.938      0.122      0.903      -1.728       1.956\n",
      "==============================================================================\n",
      "Omnibus:                      485.015   Durbin-Watson:                   1.908\n",
      "Prob(Omnibus):                  0.000   Jarque-Bera (JB):           290846.979\n",
      "Skew:                           2.515   Prob(JB):                         0.00\n",
      "Kurtosis:                     113.161   Cond. No.                     6.00e+05\n",
      "==============================================================================\n",
      "\n",
      "Warnings:\n",
      "[1] Standard Errors assume that the covariance matrix of the errors is correctly specified.\n",
      "[2] The condition number is large,  6e+05. This might indicate that there are\n",
      "strong multicollinearity or other numerical problems.\n",
      "['tweets', 'retweets', 'followers sum', 'followers max', 'hour of day']\n"
     ]
    },
    {
     "name": "stderr",
     "output_type": "stream",
     "text": [
      "/usr/local/lib/python3.6/dist-packages/numpy/core/fromnumeric.py:2542: FutureWarning: Method .ptp is deprecated and will be removed in a future version. Use numpy.ptp instead.\n",
      "  return ptp(axis=axis, out=out, **kwargs)\n",
      "/usr/local/lib/python3.6/dist-packages/ipykernel_launcher.py:3: FutureWarning: Method .as_matrix will be removed in a future version. Use .values instead.\n",
      "  This is separate from the ipykernel package so we can avoid doing imports until\n"
     ]
    }
   ],
   "source": [
    "df, df_y, pred_y = train_lr(1)\n",
    "plot_recipe(df_y,pred_y)\n",
    "ols_regression(df, df_y)"
   ]
  },
  {
   "cell_type": "markdown",
   "metadata": {
    "colab_type": "text",
    "id": "QxuiyVLGrKI3"
   },
   "source": [
    "### nfl"
   ]
  },
  {
   "cell_type": "code",
   "execution_count": 0,
   "metadata": {
    "colab": {
     "base_uri": "https://localhost:8080/",
     "height": 995
    },
    "colab_type": "code",
    "id": "BeLO9XaKrBzS",
    "outputId": "03d34244-1bbb-4645-f3cb-12f1850a9345"
   },
   "outputs": [
    {
     "name": "stdout",
     "output_type": "stream",
     "text": [
      "nfl\n",
      "MSE for test data =  270401.91406034445\n",
      "R2 score for test data =  0.5707688538937594\n"
     ]
    },
    {
     "data": {
      "image/png": "[encoded data removed]",
      "text/plain": [
       "<Figure size 432x288 with 1 Axes>"
      ]
     },
     "metadata": {
      "tags": []
     },
     "output_type": "display_data"
    },
    {
     "name": "stdout",
     "output_type": "stream",
     "text": [
      "                            OLS Regression Results                            \n",
      "==============================================================================\n",
      "Dep. Variable:                      y   R-squared:                       0.571\n",
      "Model:                            OLS   Adj. R-squared:                  0.567\n",
      "Method:                 Least Squares   F-statistic:                     154.0\n",
      "Date:                Tue, 17 Mar 2020   Prob (F-statistic):          7.45e-104\n",
      "Time:                        22:46:52   Log-Likelihood:                -4488.6\n",
      "No. Observations:                 585   AIC:                             8989.\n",
      "Df Residuals:                     579   BIC:                             9015.\n",
      "Df Model:                           5                                         \n",
      "Covariance Type:            nonrobust                                         \n",
      "=================================================================================\n",
      "                    coef    std err          t      P>|t|      [0.025      0.975]\n",
      "---------------------------------------------------------------------------------\n",
      "const           123.7556     42.809      2.891      0.004      39.676     207.835\n",
      "tweets            0.5667      0.135      4.196      0.000       0.301       0.832\n",
      "retweets         -0.1653      0.064     -2.590      0.010      -0.291      -0.040\n",
      "followers sum     0.0001    2.5e-05      4.577      0.000    6.53e-05       0.000\n",
      "followers max    -0.0001   3.31e-05     -3.525      0.000      -0.000   -5.17e-05\n",
      "hour of day       0.4475      3.148      0.142      0.887      -5.736       6.631\n",
      "==============================================================================\n",
      "Omnibus:                      668.832   Durbin-Watson:                   2.373\n",
      "Prob(Omnibus):                  0.000   Jarque-Bera (JB):           349115.930\n",
      "Skew:                           4.594   Prob(JB):                         0.00\n",
      "Kurtosis:                     122.324   Cond. No.                     8.57e+06\n",
      "==============================================================================\n",
      "\n",
      "Warnings:\n",
      "[1] Standard Errors assume that the covariance matrix of the errors is correctly specified.\n",
      "[2] The condition number is large, 8.57e+06. This might indicate that there are\n",
      "strong multicollinearity or other numerical problems.\n",
      "['tweets', 'retweets', 'followers sum', 'followers max', 'hour of day']\n"
     ]
    },
    {
     "name": "stderr",
     "output_type": "stream",
     "text": [
      "/usr/local/lib/python3.6/dist-packages/numpy/core/fromnumeric.py:2542: FutureWarning: Method .ptp is deprecated and will be removed in a future version. Use numpy.ptp instead.\n",
      "  return ptp(axis=axis, out=out, **kwargs)\n",
      "/usr/local/lib/python3.6/dist-packages/ipykernel_launcher.py:3: FutureWarning: Method .as_matrix will be removed in a future version. Use .values instead.\n",
      "  This is separate from the ipykernel package so we can avoid doing imports until\n"
     ]
    }
   ],
   "source": [
    "df, df_y, pred_y = train_lr(2)\n",
    "plot_recipe(df_y,pred_y)\n",
    "ols_regression(df, df_y)"
   ]
  },
  {
   "cell_type": "markdown",
   "metadata": {
    "colab_type": "text",
    "id": "hllYyVqTr3XB"
   },
   "source": [
    "### patriots"
   ]
  },
  {
   "cell_type": "code",
   "execution_count": 0,
   "metadata": {
    "colab": {
     "base_uri": "https://localhost:8080/",
     "height": 995
    },
    "colab_type": "code",
    "id": "6-kOW515rRfW",
    "outputId": "ff2f4405-0bcf-42e4-e293-77ddeb9612ce"
   },
   "outputs": [
    {
     "name": "stdout",
     "output_type": "stream",
     "text": [
      "patriots\n",
      "MSE for test data =  5189695.980567309\n",
      "R2 score for test data =  0.6684079890987789\n"
     ]
    },
    {
     "data": {
      "image/png": "[encoded data removed]",
      "text/plain": [
       "<Figure size 432x288 with 1 Axes>"
      ]
     },
     "metadata": {
      "tags": []
     },
     "output_type": "display_data"
    },
    {
     "name": "stdout",
     "output_type": "stream",
     "text": [
      "                            OLS Regression Results                            \n",
      "==============================================================================\n",
      "Dep. Variable:                      y   R-squared:                       0.668\n",
      "Model:                            OLS   Adj. R-squared:                  0.666\n",
      "Method:                 Least Squares   F-statistic:                     233.4\n",
      "Date:                Tue, 17 Mar 2020   Prob (F-statistic):          3.35e-136\n",
      "Time:                        22:50:07   Log-Likelihood:                -5352.8\n",
      "No. Observations:                 585   AIC:                         1.072e+04\n",
      "Df Residuals:                     579   BIC:                         1.074e+04\n",
      "Df Model:                           5                                         \n",
      "Covariance Type:            nonrobust                                         \n",
      "=================================================================================\n",
      "                    coef    std err          t      P>|t|      [0.025      0.975]\n",
      "---------------------------------------------------------------------------------\n",
      "const           181.2843    184.677      0.982      0.327    -181.435     544.003\n",
      "tweets            0.9144      0.071     12.926      0.000       0.775       1.053\n",
      "retweets         -0.0680      0.058     -1.177      0.240      -0.182       0.045\n",
      "followers sum -1.098e-05   2.63e-05     -0.417      0.677   -6.27e-05    4.08e-05\n",
      "followers max     0.0001   9.17e-05      1.338      0.182   -5.75e-05       0.000\n",
      "hour of day      -5.9285     13.808     -0.429      0.668     -33.048      21.191\n",
      "==============================================================================\n",
      "Omnibus:                      885.848   Durbin-Watson:                   1.998\n",
      "Prob(Omnibus):                  0.000   Jarque-Bera (JB):           686964.092\n",
      "Skew:                           7.930   Prob(JB):                         0.00\n",
      "Kurtosis:                     170.127   Cond. No.                     1.60e+07\n",
      "==============================================================================\n",
      "\n",
      "Warnings:\n",
      "[1] Standard Errors assume that the covariance matrix of the errors is correctly specified.\n",
      "[2] The condition number is large, 1.6e+07. This might indicate that there are\n",
      "strong multicollinearity or other numerical problems.\n",
      "['tweets', 'retweets', 'followers sum', 'followers max', 'hour of day']\n"
     ]
    },
    {
     "name": "stderr",
     "output_type": "stream",
     "text": [
      "/usr/local/lib/python3.6/dist-packages/numpy/core/fromnumeric.py:2542: FutureWarning: Method .ptp is deprecated and will be removed in a future version. Use numpy.ptp instead.\n",
      "  return ptp(axis=axis, out=out, **kwargs)\n",
      "/usr/local/lib/python3.6/dist-packages/ipykernel_launcher.py:3: FutureWarning: Method .as_matrix will be removed in a future version. Use .values instead.\n",
      "  This is separate from the ipykernel package so we can avoid doing imports until\n"
     ]
    }
   ],
   "source": [
    "df, df_y, pred_y = train_lr(3)\n",
    "plot_recipe(df_y,pred_y)\n",
    "ols_regression(df, df_y)"
   ]
  },
  {
   "cell_type": "markdown",
   "metadata": {
    "colab_type": "text",
    "id": "8FPr4kQJsK1N"
   },
   "source": [
    "### sb49"
   ]
  },
  {
   "cell_type": "code",
   "execution_count": 0,
   "metadata": {
    "colab": {
     "base_uri": "https://localhost:8080/",
     "height": 995
    },
    "colab_type": "code",
    "id": "cQCrQfQLr6Ce",
    "outputId": "e766f43b-c821-4f33-bfeb-77fac65cb58c"
   },
   "outputs": [
    {
     "name": "stdout",
     "output_type": "stream",
     "text": [
      "sb49\n",
      "MSE for test data =  16107134.315916982\n",
      "R2 score for test data =  0.804588854407114\n"
     ]
    },
    {
     "data": {
      "image/png": "[encoded data removed]",
      "text/plain": [
       "<Figure size 432x288 with 1 Axes>"
      ]
     },
     "metadata": {
      "tags": []
     },
     "output_type": "display_data"
    },
    {
     "name": "stdout",
     "output_type": "stream",
     "text": [
      "                            OLS Regression Results                            \n",
      "==============================================================================\n",
      "Dep. Variable:                      y   R-squared:                       0.805\n",
      "Model:                            OLS   Adj. R-squared:                  0.803\n",
      "Method:                 Least Squares   F-statistic:                     476.8\n",
      "Date:                Tue, 17 Mar 2020   Prob (F-statistic):          1.45e-202\n",
      "Time:                        22:52:25   Log-Likelihood:                -5684.1\n",
      "No. Observations:                 585   AIC:                         1.138e+04\n",
      "Df Residuals:                     579   BIC:                         1.141e+04\n",
      "Df Model:                           5                                         \n",
      "Covariance Type:            nonrobust                                         \n",
      "=================================================================================\n",
      "                    coef    std err          t      P>|t|      [0.025      0.975]\n",
      "---------------------------------------------------------------------------------\n",
      "const           171.9764    299.240      0.575      0.566    -415.752     759.705\n",
      "tweets            1.1364      0.087     13.053      0.000       0.965       1.307\n",
      "retweets         -0.1607      0.079     -2.046      0.041      -0.315      -0.006\n",
      "followers sum  9.744e-06   1.25e-05      0.781      0.435   -1.48e-05    3.43e-05\n",
      "followers max  9.544e-05   4.37e-05      2.184      0.029    9.62e-06       0.000\n",
      "hour of day     -14.0619     23.216     -0.606      0.545     -59.660      31.537\n",
      "==============================================================================\n",
      "Omnibus:                     1186.403   Durbin-Watson:                   1.673\n",
      "Prob(Omnibus):                  0.000   Jarque-Bera (JB):          2239749.831\n",
      "Skew:                          14.620   Prob(JB):                         0.00\n",
      "Kurtosis:                     304.715   Cond. No.                     1.43e+08\n",
      "==============================================================================\n",
      "\n",
      "Warnings:\n",
      "[1] Standard Errors assume that the covariance matrix of the errors is correctly specified.\n",
      "[2] The condition number is large, 1.43e+08. This might indicate that there are\n",
      "strong multicollinearity or other numerical problems.\n",
      "['tweets', 'retweets', 'followers sum', 'followers max', 'hour of day']\n"
     ]
    },
    {
     "name": "stderr",
     "output_type": "stream",
     "text": [
      "/usr/local/lib/python3.6/dist-packages/numpy/core/fromnumeric.py:2542: FutureWarning: Method .ptp is deprecated and will be removed in a future version. Use numpy.ptp instead.\n",
      "  return ptp(axis=axis, out=out, **kwargs)\n",
      "/usr/local/lib/python3.6/dist-packages/ipykernel_launcher.py:3: FutureWarning: Method .as_matrix will be removed in a future version. Use .values instead.\n",
      "  This is separate from the ipykernel package so we can avoid doing imports until\n"
     ]
    }
   ],
   "source": [
    "df, df_y, pred_y = train_lr(4)\n",
    "plot_recipe(df_y,pred_y)\n",
    "ols_regression(df, df_y)"
   ]
  },
  {
   "cell_type": "markdown",
   "metadata": {
    "colab_type": "text",
    "id": "8CYMbdE_s0nP"
   },
   "source": [
    "### superbowl"
   ]
  },
  {
   "cell_type": "code",
   "execution_count": 0,
   "metadata": {
    "colab": {
     "base_uri": "https://localhost:8080/",
     "height": 995
    },
    "colab_type": "code",
    "id": "Rl5JmXJwsQ1K",
    "outputId": "4b5db025-9df5-485b-94e9-82e25c736ba7"
   },
   "outputs": [
    {
     "name": "stdout",
     "output_type": "stream",
     "text": [
      "superbowl\n",
      "MSE for test data =  52573154.30093936\n",
      "R2 score for test data =  0.7998348436989455\n"
     ]
    },
    {
     "data": {
      "image/png": "[encoded data removed]",
      "text/plain": [
       "<Figure size 432x288 with 1 Axes>"
      ]
     },
     "metadata": {
      "tags": []
     },
     "output_type": "display_data"
    },
    {
     "name": "stdout",
     "output_type": "stream",
     "text": [
      "                            OLS Regression Results                            \n",
      "==============================================================================\n",
      "Dep. Variable:                      y   R-squared:                       0.800\n",
      "Model:                            OLS   Adj. R-squared:                  0.798\n",
      "Method:                 Least Squares   F-statistic:                     462.7\n",
      "Date:                Tue, 17 Mar 2020   Prob (F-statistic):          1.51e-199\n",
      "Time:                        22:56:13   Log-Likelihood:                -6030.1\n",
      "No. Observations:                 585   AIC:                         1.207e+04\n",
      "Df Residuals:                     579   BIC:                         1.210e+04\n",
      "Df Model:                           5                                         \n",
      "Covariance Type:            nonrobust                                         \n",
      "=================================================================================\n",
      "                    coef    std err          t      P>|t|      [0.025      0.975]\n",
      "---------------------------------------------------------------------------------\n",
      "const          -150.5245    608.009     -0.248      0.805   -1344.696    1043.647\n",
      "tweets            2.2766      0.080     28.512      0.000       2.120       2.433\n",
      "retweets         -0.2543      0.046     -5.539      0.000      -0.344      -0.164\n",
      "followers sum    -0.0001    2.2e-05     -6.259      0.000      -0.000   -9.47e-05\n",
      "followers max     0.0007      0.000      4.884      0.000       0.000       0.001\n",
      "hour of day     -20.4414     43.757     -0.467      0.641    -106.383      65.500\n",
      "==============================================================================\n",
      "Omnibus:                      971.880   Durbin-Watson:                   2.283\n",
      "Prob(Omnibus):                  0.000   Jarque-Bera (JB):          1778202.995\n",
      "Skew:                           9.264   Prob(JB):                         0.00\n",
      "Kurtosis:                     272.460   Cond. No.                     2.22e+08\n",
      "==============================================================================\n",
      "\n",
      "Warnings:\n",
      "[1] Standard Errors assume that the covariance matrix of the errors is correctly specified.\n",
      "[2] The condition number is large, 2.22e+08. This might indicate that there are\n",
      "strong multicollinearity or other numerical problems.\n",
      "['tweets', 'retweets', 'followers sum', 'followers max', 'hour of day']\n"
     ]
    },
    {
     "name": "stderr",
     "output_type": "stream",
     "text": [
      "/usr/local/lib/python3.6/dist-packages/numpy/core/fromnumeric.py:2542: FutureWarning: Method .ptp is deprecated and will be removed in a future version. Use numpy.ptp instead.\n",
      "  return ptp(axis=axis, out=out, **kwargs)\n",
      "/usr/local/lib/python3.6/dist-packages/ipykernel_launcher.py:3: FutureWarning: Method .as_matrix will be removed in a future version. Use .values instead.\n",
      "  This is separate from the ipykernel package so we can avoid doing imports until\n"
     ]
    }
   ],
   "source": [
    "df, df_y, pred_y = train_lr(5)\n",
    "plot_recipe(df_y,pred_y)\n",
    "ols_regression(df, df_y)"
   ]
  },
  {
   "cell_type": "code",
   "execution_count": 0,
   "metadata": {
    "colab": {},
    "colab_type": "code",
    "id": "hB__4QIus3yX"
   },
   "outputs": [],
   "source": []
  }
 ],
 "metadata": {
  "colab": {
   "collapsed_sections": [],
   "name": "Project5_psy.ipynb",
   "provenance": []
  },
  "kernelspec": {
   "display_name": "Python 3",
   "language": "python",
   "name": "python3"
  },
  "language_info": {
   "codemirror_mode": {
    "name": "ipython",
    "version": 3
   },
   "file_extension": ".py",
   "mimetype": "text/x-python",
   "name": "python",
   "nbconvert_exporter": "python",
   "pygments_lexer": "ipython3",
   "version": "3.7.6"
  }
 },
 "nbformat": 4,
 "nbformat_minor": 1
}
